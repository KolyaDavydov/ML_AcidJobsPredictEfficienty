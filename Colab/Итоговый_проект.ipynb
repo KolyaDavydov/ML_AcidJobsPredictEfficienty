{
  "nbformat": 4,
  "nbformat_minor": 0,
  "metadata": {
    "colab": {
      "provenance": []
    },
    "kernelspec": {
      "name": "python3",
      "display_name": "Python 3"
    },
    "language_info": {
      "name": "python"
    }
  },
  "cells": [
    {
      "cell_type": "markdown",
      "source": [
        "## 1. Загрузка датасета"
      ],
      "metadata": {
        "id": "kEWjw4D_VWow"
      }
    },
    {
      "cell_type": "code",
      "execution_count": 1,
      "metadata": {
        "colab": {
          "base_uri": "https://localhost:8080/"
        },
        "id": "EN8PNES4Rrpk",
        "outputId": "eb918659-3805-4dc2-d6b4-702627770877"
      },
      "outputs": [
        {
          "output_type": "stream",
          "name": "stdout",
          "text": [
            "<class 'pandas.core.frame.DataFrame'>\n",
            "RangeIndex: 2439 entries, 0 to 2438\n",
            "Data columns (total 19 columns):\n",
            " #   Column                                          Non-Null Count  Dtype         \n",
            "---  ------                                          --------------  -----         \n",
            " 0   Месторождение                                   2439 non-null   object        \n",
            " 1   № скважины                                      2439 non-null   object        \n",
            " 2   Тип скважины                                    2439 non-null   object        \n",
            " 3   Пласт                                           2439 non-null   object        \n",
            " 4   Тип коллектора                                  2439 non-null   object        \n",
            " 5   Мощность пласта, м                              2439 non-null   float64       \n",
            " 6   Начальное пластовое давление, атм               2439 non-null   int64         \n",
            " 7   Текущее пластовое давление, атм                 2439 non-null   int64         \n",
            " 8   Tекущий дебит нефти, тн                         2439 non-null   float64       \n",
            " 9   Текущий дебит жидкости, м3                      2439 non-null   float64       \n",
            " 10  Обводненость, %                                 2439 non-null   int64         \n",
            " 11  Дата ввода скважины в эксплуатацию              2439 non-null   datetime64[ns]\n",
            " 12  Текущий коэффициент продуктивности, м3/сут/атм  2410 non-null   float64       \n",
            " 13  Скин-фактор                                     2410 non-null   float64       \n",
            " 14  Температура пласта, град                        2439 non-null   int64         \n",
            " 15  Вязкость нефти, сПз                             2439 non-null   float64       \n",
            " 16  Наличие ГРП                                     619 non-null    object        \n",
            " 17  Проницаемость, мд                               385 non-null    float64       \n",
            " 18  Прирост нефти от кислотных обработок, тн        718 non-null    float64       \n",
            "dtypes: datetime64[ns](1), float64(8), int64(4), object(6)\n",
            "memory usage: 362.2+ KB\n"
          ]
        }
      ],
      "source": [
        "import numpy as np\n",
        "import pandas as pd\n",
        "\n",
        "url='https://drive.google.com/uc?id=1sNvnsY9aom2jHFfHcaZOLRZkoJmK5m7M'\n",
        "\n",
        "df = pd.read_excel(url)\n",
        "df.info()"
      ]
    },
    {
      "cell_type": "markdown",
      "source": [
        "## 2. Подготовка датасета"
      ],
      "metadata": {
        "id": "J1RMaawL59lE"
      }
    },
    {
      "cell_type": "markdown",
      "source": [
        "Нас интересует только строки где есть значения в столбце \"Прирост нефти от кислотных ОПЗ\", поскольку для остальных строк значений нет, то просто удалаяем их."
      ],
      "metadata": {
        "id": "Wuo42CD9V9Nn"
      }
    },
    {
      "cell_type": "code",
      "source": [
        "# Удаляем строки где в 18 столбце есть NULL\n",
        "df.dropna(subset=['Прирост нефти от кислотных обработок, тн'], inplace=True)\n",
        "df.info()"
      ],
      "metadata": {
        "colab": {
          "base_uri": "https://localhost:8080/"
        },
        "id": "hKsJ_0_O6EA3",
        "outputId": "ba967297-c7cd-41c1-aacf-fcbee5959454"
      },
      "execution_count": 2,
      "outputs": [
        {
          "output_type": "stream",
          "name": "stdout",
          "text": [
            "<class 'pandas.core.frame.DataFrame'>\n",
            "Int64Index: 718 entries, 0 to 745\n",
            "Data columns (total 19 columns):\n",
            " #   Column                                          Non-Null Count  Dtype         \n",
            "---  ------                                          --------------  -----         \n",
            " 0   Месторождение                                   718 non-null    object        \n",
            " 1   № скважины                                      718 non-null    object        \n",
            " 2   Тип скважины                                    718 non-null    object        \n",
            " 3   Пласт                                           718 non-null    object        \n",
            " 4   Тип коллектора                                  718 non-null    object        \n",
            " 5   Мощность пласта, м                              718 non-null    float64       \n",
            " 6   Начальное пластовое давление, атм               718 non-null    int64         \n",
            " 7   Текущее пластовое давление, атм                 718 non-null    int64         \n",
            " 8   Tекущий дебит нефти, тн                         718 non-null    float64       \n",
            " 9   Текущий дебит жидкости, м3                      718 non-null    float64       \n",
            " 10  Обводненость, %                                 718 non-null    int64         \n",
            " 11  Дата ввода скважины в эксплуатацию              718 non-null    datetime64[ns]\n",
            " 12  Текущий коэффициент продуктивности, м3/сут/атм  718 non-null    float64       \n",
            " 13  Скин-фактор                                     718 non-null    float64       \n",
            " 14  Температура пласта, град                        718 non-null    int64         \n",
            " 15  Вязкость нефти, сПз                             718 non-null    float64       \n",
            " 16  Наличие ГРП                                     195 non-null    object        \n",
            " 17  Проницаемость, мд                               71 non-null     float64       \n",
            " 18  Прирост нефти от кислотных обработок, тн        718 non-null    float64       \n",
            "dtypes: datetime64[ns](1), float64(8), int64(4), object(6)\n",
            "memory usage: 112.2+ KB\n"
          ]
        }
      ]
    },
    {
      "cell_type": "code",
      "source": [
        "# ПРеобразуем столбец ГРП в котегориальный признак (1 - есть ГРП, 2 - нет ГРП)\n",
        "df['Наличие ГРП'] = df['Наличие ГРП'].fillna(0)\n",
        "df.loc[df['Наличие ГРП'] != 0, 'Наличие ГРП'] = 1\n",
        "df['Наличие ГРП'] = df['Наличие ГРП'].astype(int)\n",
        "df.info()"
      ],
      "metadata": {
        "colab": {
          "base_uri": "https://localhost:8080/"
        },
        "id": "FT-GEM_Z8qcX",
        "outputId": "dd89ddf4-a0c9-4f52-e879-3894c72c4445"
      },
      "execution_count": 3,
      "outputs": [
        {
          "output_type": "stream",
          "name": "stdout",
          "text": [
            "<class 'pandas.core.frame.DataFrame'>\n",
            "Int64Index: 718 entries, 0 to 745\n",
            "Data columns (total 19 columns):\n",
            " #   Column                                          Non-Null Count  Dtype         \n",
            "---  ------                                          --------------  -----         \n",
            " 0   Месторождение                                   718 non-null    object        \n",
            " 1   № скважины                                      718 non-null    object        \n",
            " 2   Тип скважины                                    718 non-null    object        \n",
            " 3   Пласт                                           718 non-null    object        \n",
            " 4   Тип коллектора                                  718 non-null    object        \n",
            " 5   Мощность пласта, м                              718 non-null    float64       \n",
            " 6   Начальное пластовое давление, атм               718 non-null    int64         \n",
            " 7   Текущее пластовое давление, атм                 718 non-null    int64         \n",
            " 8   Tекущий дебит нефти, тн                         718 non-null    float64       \n",
            " 9   Текущий дебит жидкости, м3                      718 non-null    float64       \n",
            " 10  Обводненость, %                                 718 non-null    int64         \n",
            " 11  Дата ввода скважины в эксплуатацию              718 non-null    datetime64[ns]\n",
            " 12  Текущий коэффициент продуктивности, м3/сут/атм  718 non-null    float64       \n",
            " 13  Скин-фактор                                     718 non-null    float64       \n",
            " 14  Температура пласта, град                        718 non-null    int64         \n",
            " 15  Вязкость нефти, сПз                             718 non-null    float64       \n",
            " 16  Наличие ГРП                                     718 non-null    int64         \n",
            " 17  Проницаемость, мд                               71 non-null     float64       \n",
            " 18  Прирост нефти от кислотных обработок, тн        718 non-null    float64       \n",
            "dtypes: datetime64[ns](1), float64(8), int64(5), object(5)\n",
            "memory usage: 112.2+ KB\n"
          ]
        }
      ]
    },
    {
      "cell_type": "markdown",
      "source": [
        "Удалим ненужные столбцы которые не могут сказываться на результате (номер скважины и рпоницаемость поскольку там отстутствуюет много знаяений)"
      ],
      "metadata": {
        "id": "Rh-ITtabXA6n"
      }
    },
    {
      "cell_type": "code",
      "source": [
        "df = df.drop('Проницаемость, мд', axis=1)\n",
        "df = df.drop('№ скважины', axis=1)\n",
        "df = df.drop('Месторождение', axis=1)\n",
        "df = df.drop('Пласт', axis=1)\n",
        "df = df.drop('Дата ввода скважины в эксплуатацию', axis=1)\n",
        "\n",
        "df.info()"
      ],
      "metadata": {
        "colab": {
          "base_uri": "https://localhost:8080/"
        },
        "id": "R6GOSCnjXNhV",
        "outputId": "78ee6002-33bc-42b5-91cd-196e5b149e92"
      },
      "execution_count": 4,
      "outputs": [
        {
          "output_type": "stream",
          "name": "stdout",
          "text": [
            "<class 'pandas.core.frame.DataFrame'>\n",
            "Int64Index: 718 entries, 0 to 745\n",
            "Data columns (total 14 columns):\n",
            " #   Column                                          Non-Null Count  Dtype  \n",
            "---  ------                                          --------------  -----  \n",
            " 0   Тип скважины                                    718 non-null    object \n",
            " 1   Тип коллектора                                  718 non-null    object \n",
            " 2   Мощность пласта, м                              718 non-null    float64\n",
            " 3   Начальное пластовое давление, атм               718 non-null    int64  \n",
            " 4   Текущее пластовое давление, атм                 718 non-null    int64  \n",
            " 5   Tекущий дебит нефти, тн                         718 non-null    float64\n",
            " 6   Текущий дебит жидкости, м3                      718 non-null    float64\n",
            " 7   Обводненость, %                                 718 non-null    int64  \n",
            " 8   Текущий коэффициент продуктивности, м3/сут/атм  718 non-null    float64\n",
            " 9   Скин-фактор                                     718 non-null    float64\n",
            " 10  Температура пласта, град                        718 non-null    int64  \n",
            " 11  Вязкость нефти, сПз                             718 non-null    float64\n",
            " 12  Наличие ГРП                                     718 non-null    int64  \n",
            " 13  Прирост нефти от кислотных обработок, тн        718 non-null    float64\n",
            "dtypes: float64(7), int64(5), object(2)\n",
            "memory usage: 84.1+ KB\n"
          ]
        }
      ]
    },
    {
      "cell_type": "markdown",
      "source": [
        "Преобразуем некоторые данные в категориальные"
      ],
      "metadata": {
        "id": "CT68yBXTfRhA"
      }
    },
    {
      "cell_type": "code",
      "source": [
        "features = ['Тип скважины', 'Тип коллектора']\n",
        "for feature in features:\n",
        "  df[feature] = df[feature].astype('category')\n",
        "\n",
        "df.info()"
      ],
      "metadata": {
        "colab": {
          "base_uri": "https://localhost:8080/"
        },
        "id": "cnRweY6CAwAw",
        "outputId": "183ea8a9-ba47-441d-aad7-6645a09516c0"
      },
      "execution_count": 5,
      "outputs": [
        {
          "output_type": "stream",
          "name": "stdout",
          "text": [
            "<class 'pandas.core.frame.DataFrame'>\n",
            "Int64Index: 718 entries, 0 to 745\n",
            "Data columns (total 14 columns):\n",
            " #   Column                                          Non-Null Count  Dtype   \n",
            "---  ------                                          --------------  -----   \n",
            " 0   Тип скважины                                    718 non-null    category\n",
            " 1   Тип коллектора                                  718 non-null    category\n",
            " 2   Мощность пласта, м                              718 non-null    float64 \n",
            " 3   Начальное пластовое давление, атм               718 non-null    int64   \n",
            " 4   Текущее пластовое давление, атм                 718 non-null    int64   \n",
            " 5   Tекущий дебит нефти, тн                         718 non-null    float64 \n",
            " 6   Текущий дебит жидкости, м3                      718 non-null    float64 \n",
            " 7   Обводненость, %                                 718 non-null    int64   \n",
            " 8   Текущий коэффициент продуктивности, м3/сут/атм  718 non-null    float64 \n",
            " 9   Скин-фактор                                     718 non-null    float64 \n",
            " 10  Температура пласта, град                        718 non-null    int64   \n",
            " 11  Вязкость нефти, сПз                             718 non-null    float64 \n",
            " 12  Наличие ГРП                                     718 non-null    int64   \n",
            " 13  Прирост нефти от кислотных обработок, тн        718 non-null    float64 \n",
            "dtypes: category(2), float64(7), int64(5)\n",
            "memory usage: 74.7 KB\n"
          ]
        }
      ]
    },
    {
      "cell_type": "markdown",
      "source": [
        "Добавялем столбец `Эффективность` именно этот параметр необходимо будет предстказывать. Эффективность=true если прирост дебита нефти после кислотных ОПЗ будет больше 3 тн/сут, и на оборот."
      ],
      "metadata": {
        "id": "rynTNEBaVkZh"
      }
    },
    {
      "cell_type": "code",
      "source": [
        "# если эффективность = 1, то успешно\n",
        "\n",
        "df['Эффективность'] = np.where(df['Прирост нефти от кислотных обработок, тн']>3, 1, 0)\n",
        "df.info()"
      ],
      "metadata": {
        "colab": {
          "base_uri": "https://localhost:8080/"
        },
        "id": "F1uW97T1EP-x",
        "outputId": "7ca14e9e-ccff-4c57-8f89-c356b5664f6d"
      },
      "execution_count": 6,
      "outputs": [
        {
          "output_type": "stream",
          "name": "stdout",
          "text": [
            "<class 'pandas.core.frame.DataFrame'>\n",
            "Int64Index: 718 entries, 0 to 745\n",
            "Data columns (total 15 columns):\n",
            " #   Column                                          Non-Null Count  Dtype   \n",
            "---  ------                                          --------------  -----   \n",
            " 0   Тип скважины                                    718 non-null    category\n",
            " 1   Тип коллектора                                  718 non-null    category\n",
            " 2   Мощность пласта, м                              718 non-null    float64 \n",
            " 3   Начальное пластовое давление, атм               718 non-null    int64   \n",
            " 4   Текущее пластовое давление, атм                 718 non-null    int64   \n",
            " 5   Tекущий дебит нефти, тн                         718 non-null    float64 \n",
            " 6   Текущий дебит жидкости, м3                      718 non-null    float64 \n",
            " 7   Обводненость, %                                 718 non-null    int64   \n",
            " 8   Текущий коэффициент продуктивности, м3/сут/атм  718 non-null    float64 \n",
            " 9   Скин-фактор                                     718 non-null    float64 \n",
            " 10  Температура пласта, град                        718 non-null    int64   \n",
            " 11  Вязкость нефти, сПз                             718 non-null    float64 \n",
            " 12  Наличие ГРП                                     718 non-null    int64   \n",
            " 13  Прирост нефти от кислотных обработок, тн        718 non-null    float64 \n",
            " 14  Эффективность                                   718 non-null    int64   \n",
            "dtypes: category(2), float64(7), int64(6)\n",
            "memory usage: 80.3 KB\n"
          ]
        }
      ]
    },
    {
      "cell_type": "markdown",
      "source": [
        "По нашему датасету эффективность составляет 421/718= 57%"
      ],
      "metadata": {
        "id": "QrnQymKrYv9C"
      }
    },
    {
      "cell_type": "code",
      "source": [
        "num_effecienty = df['Эффективность'].value_counts()[1]\n",
        "num_non_effecienty = df['Эффективность'].value_counts()[0]\n",
        "\n",
        "print(\"Общее количество проведенных работ: \", num_effecienty + num_non_effecienty)\n",
        "print(\"Успешных: \", num_effecienty)\n",
        "print(\"Не успешных: \", num_non_effecienty)"
      ],
      "metadata": {
        "colab": {
          "base_uri": "https://localhost:8080/"
        },
        "id": "V6zR7AVrKNP-",
        "outputId": "fb8e5fb5-4554-4f9a-e4b9-a61350805289"
      },
      "execution_count": 20,
      "outputs": [
        {
          "output_type": "stream",
          "name": "stdout",
          "text": [
            "Общее количество проведенных работ:  718\n",
            "Успешных:  421\n",
            "Не успешных:  297\n"
          ]
        }
      ]
    },
    {
      "cell_type": "code",
      "source": [
        "import matplotlib.pyplot as plt\n",
        "df.groupby(['Эффективность']).size().to_frame().unstack().plot(kind='pie', autopct='%1.0f%%',\n",
        "                                                               colors = ['red', 'steelblue'],\n",
        " title='Эффективность кислотных обработок за 2022 год',\n",
        "                                                               labels = ['Не успешно', 'Успешно'])\n",
        "\n"
      ],
      "metadata": {
        "colab": {
          "base_uri": "https://localhost:8080/",
          "height": 447
        },
        "id": "uzE2G5l2p7TZ",
        "outputId": "2e8536bc-b87c-4346-d679-edc51df6175b"
      },
      "execution_count": 37,
      "outputs": [
        {
          "output_type": "execute_result",
          "data": {
            "text/plain": [
              "<Axes: title={'center': 'Эффективность кислотных обработок за 2022 год'}>"
            ]
          },
          "metadata": {},
          "execution_count": 37
        },
        {
          "output_type": "display_data",
          "data": {
            "text/plain": [
              "<Figure size 640x480 with 1 Axes>"
            ],
            "image/png": "[encoded data removed]"
          },
          "metadata": {}
        }
      ]
    },
    {
      "cell_type": "markdown",
      "source": [
        "## 3. Создание и обучение модели"
      ],
      "metadata": {
        "id": "4NkRccVYZOT5"
      }
    },
    {
      "cell_type": "markdown",
      "source": [
        "Разделяем данные на обучающий и тестовый наборы:"
      ],
      "metadata": {
        "id": "dse7fEFzaih4"
      }
    },
    {
      "cell_type": "code",
      "source": [
        "from sklearn.model_selection import train_test_split\n",
        "from sklearn.metrics import accuracy_score\n",
        "\n",
        "X = df.drop('Эффективность', axis=1)\n",
        "X = X.drop('Прирост нефти от кислотных обработок, тн', axis=1)\n",
        "# X = df.iloc[:, [0, 1, 2, 5, 6, 7, 8, 12, 13, 14]]\n",
        "y = df['Эффективность']\n",
        "X_train, X_test, y_train, y_test = train_test_split(X, y, test_size=0.2, random_state = 100)"
      ],
      "metadata": {
        "id": "0nFLs_yOavrF"
      },
      "execution_count": 8,
      "outputs": []
    },
    {
      "cell_type": "markdown",
      "source": [
        "### 3.1 CatBoost"
      ],
      "metadata": {
        "id": "aRoMektqZtQZ"
      }
    },
    {
      "cell_type": "code",
      "source": [
        "!pip install catboost\n",
        "from catboost import CatBoostClassifier"
      ],
      "metadata": {
        "colab": {
          "base_uri": "https://localhost:8080/"
        },
        "id": "KnXSHM12jZw4",
        "outputId": "45315949-57da-49be-eda2-4d5e75b4de77"
      },
      "execution_count": 9,
      "outputs": [
        {
          "output_type": "stream",
          "name": "stdout",
          "text": [
            "Collecting catboost\n",
            "  Downloading catboost-1.2.2-cp310-cp310-manylinux2014_x86_64.whl (98.7 MB)\n",
            "\u001b[2K     \u001b[90m━━━━━━━━━━━━━━━━━━━━━━━━━━━━━━━━━━━━━━━━\u001b[0m \u001b[32m98.7/98.7 MB\u001b[0m \u001b[31m10.7 MB/s\u001b[0m eta \u001b[36m0:00:00\u001b[0m\n",
            "\u001b[?25hRequirement already satisfied: graphviz in /usr/local/lib/python3.10/dist-packages (from catboost) (0.20.1)\n",
            "Requirement already satisfied: matplotlib in /usr/local/lib/python3.10/dist-packages (from catboost) (3.7.1)\n",
            "Requirement already satisfied: numpy>=1.16.0 in /usr/local/lib/python3.10/dist-packages (from catboost) (1.23.5)\n",
            "Requirement already satisfied: pandas>=0.24 in /usr/local/lib/python3.10/dist-packages (from catboost) (1.5.3)\n",
            "Requirement already satisfied: scipy in /usr/local/lib/python3.10/dist-packages (from catboost) (1.11.3)\n",
            "Requirement already satisfied: plotly in /usr/local/lib/python3.10/dist-packages (from catboost) (5.15.0)\n",
            "Requirement already satisfied: six in /usr/local/lib/python3.10/dist-packages (from catboost) (1.16.0)\n",
            "Requirement already satisfied: python-dateutil>=2.8.1 in /usr/local/lib/python3.10/dist-packages (from pandas>=0.24->catboost) (2.8.2)\n",
            "Requirement already satisfied: pytz>=2020.1 in /usr/local/lib/python3.10/dist-packages (from pandas>=0.24->catboost) (2023.3.post1)\n",
            "Requirement already satisfied: contourpy>=1.0.1 in /usr/local/lib/python3.10/dist-packages (from matplotlib->catboost) (1.2.0)\n",
            "Requirement already satisfied: cycler>=0.10 in /usr/local/lib/python3.10/dist-packages (from matplotlib->catboost) (0.12.1)\n",
            "Requirement already satisfied: fonttools>=4.22.0 in /usr/local/lib/python3.10/dist-packages (from matplotlib->catboost) (4.44.3)\n",
            "Requirement already satisfied: kiwisolver>=1.0.1 in /usr/local/lib/python3.10/dist-packages (from matplotlib->catboost) (1.4.5)\n",
            "Requirement already satisfied: packaging>=20.0 in /usr/local/lib/python3.10/dist-packages (from matplotlib->catboost) (23.2)\n",
            "Requirement already satisfied: pillow>=6.2.0 in /usr/local/lib/python3.10/dist-packages (from matplotlib->catboost) (9.4.0)\n",
            "Requirement already satisfied: pyparsing>=2.3.1 in /usr/local/lib/python3.10/dist-packages (from matplotlib->catboost) (3.1.1)\n",
            "Requirement already satisfied: tenacity>=6.2.0 in /usr/local/lib/python3.10/dist-packages (from plotly->catboost) (8.2.3)\n",
            "Installing collected packages: catboost\n",
            "Successfully installed catboost-1.2.2\n"
          ]
        }
      ]
    },
    {
      "cell_type": "code",
      "source": [
        "# Обучаем модель\n",
        "cat_model = CatBoostClassifier(iterations=100, depth=10, learning_rate=0.1, cat_features=features)\n",
        "cat_model.fit(X_train, y_train)\n",
        "\n",
        "# Делаем предсказание на тестовом наборе данных\n",
        "y_pred = cat_model.predict(X_test)\n",
        "\n",
        "# Оцениваем точность модели\n",
        "accuracy = accuracy_score(y_test, y_pred)\n",
        "print(f\"Точность модели: {accuracy}\")"
      ],
      "metadata": {
        "id": "etFaHSEVZ-1M"
      },
      "execution_count": null,
      "outputs": []
    },
    {
      "cell_type": "markdown",
      "source": [
        "СОхранение модели:"
      ],
      "metadata": {
        "id": "MkJY8A3UPzY5"
      }
    },
    {
      "cell_type": "code",
      "source": [
        "cat_model.save_model('efficiency_acid_jobs.cbm')"
      ],
      "metadata": {
        "id": "APiY1kcMP29F"
      },
      "execution_count": 11,
      "outputs": []
    },
    {
      "cell_type": "code",
      "source": [
        "# from sklearn.pipeline import Pipeline\n",
        "# from sklearn.preprocessing import StandardScaler\n",
        "# from sklearn import svm\n",
        "\n",
        "# X = df.iloc[:, [3, 4, 5, 6, 7, 8, 10, 11, 12, 13, 14]]\n",
        "# # X = df.drop('Эффективность', axis=1)\n",
        "# # X = X.drop('Прирост нефти от кислотных обработок, тн', axis=1)\n",
        "# y = df['Эффективность']\n",
        "# # делим модель на тестовую и обучающую выборку\n",
        "# X_train, X_test, y_train, y_test = train_test_split(X, y, test_size = 0.2, random_state = 100)\n",
        "\n",
        "# from sklearn.pipeline import Pipeline\n",
        "# from sklearn.preprocessing import StandardScaler\n",
        "# from sklearn import svm\n",
        "# model_S = Pipeline([\n",
        "#         (\"scaler\", StandardScaler()),\n",
        "#         (\"linear_svc\", svm.SVC(kernel='linear',C = 1.0)),\n",
        "#     ])\n",
        "# # обучаем модель и смотрим точность\n",
        "# model_S.fit(X_train, y_train)\n",
        "# model_S.score(X_test,y_test)"
      ],
      "metadata": {
        "id": "jYIYXIWQGOZX"
      },
      "execution_count": 17,
      "outputs": []
    },
    {
      "cell_type": "code",
      "source": [
        "# from sklearn.neighbors import KNeighborsClassifier\n",
        "\n",
        "# n_neighbors=10\n",
        "\n",
        "# model = KNeighborsClassifier(n_neighbors = n_neighbors)\n",
        "# model.fit(X_train,y_train)\n",
        "\n",
        "# score = model.score(X_test,y_test)\n",
        "# score"
      ],
      "metadata": {
        "id": "X4HBeaj3yKjo"
      },
      "execution_count": 18,
      "outputs": []
    },
    {
      "cell_type": "markdown",
      "source": [
        "## 4. Предсказание"
      ],
      "metadata": {
        "id": "M2LctpXUySGG"
      }
    },
    {
      "cell_type": "markdown",
      "source": [
        "Функция принимает список (well) характеристик скважины, которую хотим оценить"
      ],
      "metadata": {
        "id": "bx567vRPgYu2"
      }
    },
    {
      "cell_type": "code",
      "source": [
        "def predict(well):\n",
        "  # получаем список названий столбцов которые нужны для предсказания\n",
        "  col_name = [column for column in df]\n",
        "  col_name.pop()\n",
        "  col_name.pop()\n",
        "\n",
        "# Такой список должна принять функция\n",
        "  # well = [well,\n",
        "  #           type_form,\n",
        "  #           power_form,\n",
        "  #           begin_pressure,\n",
        "  #           current_pressure,\n",
        "  #           current_q_oil,\n",
        "  #           current_q_liq,\n",
        "  #           percent_water,\n",
        "  #           productivity,\n",
        "  #           skin,\n",
        "  #           temperature,\n",
        "  #           viscosity,\n",
        "  #           frac]\n",
        "  values = np.array([well])\n",
        "  data_pred = pd.DataFrame(values, columns=col_name)\n",
        "\n",
        "  predict = cat_model.predict(data_pred)\n",
        "\n",
        "  result = ''\n",
        "  match predict:\n",
        "    case 0:\n",
        "      result='НЕ эффективно'\n",
        "    case 1:\n",
        "      result='Эффективно'\n",
        "\n",
        "  return result"
      ],
      "metadata": {
        "id": "TNdT_jYgzylM"
      },
      "execution_count": 12,
      "outputs": []
    },
    {
      "cell_type": "markdown",
      "source": [
        "Пример передачи в функцию"
      ],
      "metadata": {
        "id": "62MGDCIQg9oQ"
      }
    },
    {
      "cell_type": "code",
      "source": [
        "well_1 = [\"ВЕРT\",\n",
        "            \"Карбонат-известняк\",\n",
        "            4.0,\n",
        "            345,\n",
        "            300,\n",
        "            1.7,\n",
        "            3.0,\n",
        "            33,\n",
        "            0.01,\n",
        "            154.2,\n",
        "            59,\n",
        "            1.7,\n",
        "            0]\n",
        "\n",
        "print(predict(well_1))"
      ],
      "metadata": {
        "colab": {
          "base_uri": "https://localhost:8080/"
        },
        "id": "Go8_YrDZ3SJK",
        "outputId": "09fb0e1b-0137-4592-f134-0c0b60cfa2b4"
      },
      "execution_count": 13,
      "outputs": [
        {
          "output_type": "stream",
          "name": "stdout",
          "text": [
            "Эффективно\n"
          ]
        }
      ]
    },
    {
      "cell_type": "markdown",
      "source": [
        "# Веб приложение Flask"
      ],
      "metadata": {
        "id": "h5WH_MchW2Vb"
      }
    },
    {
      "cell_type": "code",
      "source": [
        "!pip install flask-ngrok\n",
        "!pip install pyngrok==4.1.1"
      ],
      "metadata": {
        "colab": {
          "base_uri": "https://localhost:8080/"
        },
        "id": "fdtKRI3LW8rF",
        "outputId": "f6875d7b-610e-4b5a-b22a-ee98971675be"
      },
      "execution_count": 14,
      "outputs": [
        {
          "output_type": "stream",
          "name": "stdout",
          "text": [
            "Collecting flask-ngrok\n",
            "  Downloading flask_ngrok-0.0.25-py3-none-any.whl (3.1 kB)\n",
            "Requirement already satisfied: Flask>=0.8 in /usr/local/lib/python3.10/dist-packages (from flask-ngrok) (2.2.5)\n",
            "Requirement already satisfied: requests in /usr/local/lib/python3.10/dist-packages (from flask-ngrok) (2.31.0)\n",
            "Requirement already satisfied: Werkzeug>=2.2.2 in /usr/local/lib/python3.10/dist-packages (from Flask>=0.8->flask-ngrok) (3.0.1)\n",
            "Requirement already satisfied: Jinja2>=3.0 in /usr/local/lib/python3.10/dist-packages (from Flask>=0.8->flask-ngrok) (3.1.2)\n",
            "Requirement already satisfied: itsdangerous>=2.0 in /usr/local/lib/python3.10/dist-packages (from Flask>=0.8->flask-ngrok) (2.1.2)\n",
            "Requirement already satisfied: click>=8.0 in /usr/local/lib/python3.10/dist-packages (from Flask>=0.8->flask-ngrok) (8.1.7)\n",
            "Requirement already satisfied: charset-normalizer<4,>=2 in /usr/local/lib/python3.10/dist-packages (from requests->flask-ngrok) (3.3.2)\n",
            "Requirement already satisfied: idna<4,>=2.5 in /usr/local/lib/python3.10/dist-packages (from requests->flask-ngrok) (3.4)\n",
            "Requirement already satisfied: urllib3<3,>=1.21.1 in /usr/local/lib/python3.10/dist-packages (from requests->flask-ngrok) (2.0.7)\n",
            "Requirement already satisfied: certifi>=2017.4.17 in /usr/local/lib/python3.10/dist-packages (from requests->flask-ngrok) (2023.7.22)\n",
            "Requirement already satisfied: MarkupSafe>=2.0 in /usr/local/lib/python3.10/dist-packages (from Jinja2>=3.0->Flask>=0.8->flask-ngrok) (2.1.3)\n",
            "Installing collected packages: flask-ngrok\n",
            "Successfully installed flask-ngrok-0.0.25\n",
            "Collecting pyngrok==4.1.1\n",
            "  Downloading pyngrok-4.1.1.tar.gz (18 kB)\n",
            "  Preparing metadata (setup.py) ... \u001b[?25l\u001b[?25hdone\n",
            "Requirement already satisfied: future in /usr/local/lib/python3.10/dist-packages (from pyngrok==4.1.1) (0.18.3)\n",
            "Requirement already satisfied: PyYAML in /usr/local/lib/python3.10/dist-packages (from pyngrok==4.1.1) (6.0.1)\n",
            "Building wheels for collected packages: pyngrok\n",
            "  Building wheel for pyngrok (setup.py) ... \u001b[?25l\u001b[?25hdone\n",
            "  Created wheel for pyngrok: filename=pyngrok-4.1.1-py3-none-any.whl size=15964 sha256=28920857dec73f34f36a13409a177f3c0580bea8ab363513041120eb5bfb9590\n",
            "  Stored in directory: /root/.cache/pip/wheels/4c/7c/4c/632fba2ea8e88d8890102eb07bc922e1ca8fa14db5902c91a8\n",
            "Successfully built pyngrok\n",
            "Installing collected packages: pyngrok\n",
            "Successfully installed pyngrok-4.1.1\n"
          ]
        }
      ]
    },
    {
      "cell_type": "markdown",
      "source": [
        "Линкуем Google Drive в Colab"
      ],
      "metadata": {
        "id": "_L4VOPEqOuWM"
      }
    },
    {
      "cell_type": "code",
      "source": [
        "from google.colab import drive\n",
        "drive.mount('/drive')\n",
        "#!!! ВОЗМОЖо если не отображается google disk в левой части, то его придется вручную прилинковать нажав кнопку"
      ],
      "metadata": {
        "colab": {
          "base_uri": "https://localhost:8080/"
        },
        "id": "6DBMDRvUO6Z-",
        "outputId": "6dbd1d02-5b64-459b-8d1c-20c0e0d77626"
      },
      "execution_count": 15,
      "outputs": [
        {
          "output_type": "stream",
          "name": "stdout",
          "text": [
            "Mounted at /drive\n"
          ]
        }
      ]
    },
    {
      "cell_type": "code",
      "source": [
        "!ngrok authtoken 2YLeY1623EHVhOgCm2tZgisb0vd_5qYAKaocYCZjhmVJwW6JL"
      ],
      "metadata": {
        "colab": {
          "base_uri": "https://localhost:8080/"
        },
        "id": "ySS8x4pMWz2u",
        "outputId": "b9ddb2f2-94d5-4a4c-bbac-3cbee687692e"
      },
      "execution_count": 16,
      "outputs": [
        {
          "output_type": "stream",
          "name": "stdout",
          "text": [
            "Authtoken saved to configuration file: /root/.ngrok2/ngrok.yml\n"
          ]
        }
      ]
    },
    {
      "cell_type": "markdown",
      "source": [
        "Импортируем необходимые библиотеки"
      ],
      "metadata": {
        "id": "7HKSCZ_sPA1J"
      }
    },
    {
      "cell_type": "code",
      "source": [
        "from flask_ngrok import run_with_ngrok\n",
        "from flask import Flask, request, render_template\n",
        "import pickle"
      ],
      "metadata": {
        "id": "sr7b5bzeTKE_"
      },
      "execution_count": 17,
      "outputs": []
    },
    {
      "cell_type": "code",
      "source": [
        "templates = '/content/drive/MyDrive/ML_finalProject/templates'\n",
        "\n",
        "# Создаем приложение Flask\n",
        "app = Flask(__name__, template_folder=templates)\n",
        "# Запускаем Flask приложение с помощью ngrok Для того что бы можно было открывать приложение в COlabе через браузер\n",
        "run_with_ngrok(app)\n",
        "\n",
        "@app.route('/')\n",
        "def home():\n",
        "    return render_template('index.html')\n",
        "\n",
        "@app.route('/getprediction',methods=['POST'])\n",
        "def getprediction():\n",
        "\n",
        "    input = [(x) for x in request.form.values()]\n",
        "    print(input)\n",
        "    final_input = [np.array(input)]\n",
        "    # prediction = model.predict(final_input)\n",
        "    prediction = predict(input)\n",
        "\n",
        "    return render_template('index.html', output='Оценка скважины :{}'.format(prediction))\n",
        "\n",
        "app.run()"
      ],
      "metadata": {
        "colab": {
          "base_uri": "https://localhost:8080/"
        },
        "id": "8oeNLKZkXZkw",
        "outputId": "f2847768-8410-42b9-e56a-4cb6468d5b3d"
      },
      "execution_count": 19,
      "outputs": [
        {
          "output_type": "stream",
          "name": "stdout",
          "text": [
            " * Serving Flask app '__main__'\n",
            " * Debug mode: off\n"
          ]
        },
        {
          "output_type": "stream",
          "name": "stderr",
          "text": [
            "INFO:werkzeug:\u001b[31m\u001b[1mWARNING: This is a development server. Do not use it in a production deployment. Use a production WSGI server instead.\u001b[0m\n",
            " * Running on http://127.0.0.1:5000\n",
            "INFO:werkzeug:\u001b[33mPress CTRL+C to quit\u001b[0m\n"
          ]
        }
      ]
    }
  ]
}